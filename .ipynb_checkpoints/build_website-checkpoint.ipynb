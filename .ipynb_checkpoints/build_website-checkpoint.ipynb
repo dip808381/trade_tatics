{
 "cells": [
  {
   "cell_type": "code",
   "execution_count": 3,
   "id": "d98b851a",
   "metadata": {},
   "outputs": [],
   "source": [
    "from azure.storage.blob import BlobServiceClient, BlobClient, ContainerClient\n",
    "import os"
   ]
  },
  {
   "cell_type": "code",
   "execution_count": 4,
   "id": "43f3402e",
   "metadata": {},
   "outputs": [],
   "source": [
    "# Replace these with your Azure Storage account details\n",
    "account_url = \"https://tradetatics.blob.core.windows.net\"\n",
    "account_key = \"ZkAJWrsEc1GVv7n2QzZvGsEx5B2hcBcy4Nk+QjNvvAtb+ntX/mCB1zzDdxlDLc1Bhy8vySPNqcjd+AStgvf4OQ==\"\n",
    "container_name = \"daily-tech-analysis\""
   ]
  },
  {
   "cell_type": "code",
   "execution_count": 5,
   "id": "c66842ab",
   "metadata": {},
   "outputs": [],
   "source": [
    "# Set up the BlobServiceClient\n",
    "blob_service_client = BlobServiceClient(account_url=account_url, credential=account_key)\n"
   ]
  },
  {
   "cell_type": "code",
   "execution_count": 6,
   "id": "9257408a",
   "metadata": {},
   "outputs": [
    {
     "name": "stdout",
     "output_type": "stream",
     "text": [
      "Container 'daily-tech-analysis' already exists or cannot be created: The specified container already exists.\n",
      "RequestId:90bfc685-e01e-0046-0675-2f8c01000000\n",
      "Time:2024-11-05T11:24:52.7721775Z\n",
      "ErrorCode:ContainerAlreadyExists\n",
      "Content: <?xml version=\"1.0\" encoding=\"utf-8\"?><Error><Code>ContainerAlreadyExists</Code><Message>The specified container already exists.\n",
      "RequestId:90bfc685-e01e-0046-0675-2f8c01000000\n",
      "Time:2024-11-05T11:24:52.7721775Z</Message></Error>\n"
     ]
    }
   ],
   "source": [
    "# Ensure the container exists\n",
    "container_client = blob_service_client.get_container_client(container_name)\n",
    "try:\n",
    "    container_client.create_container()\n",
    "except Exception as e:\n",
    "    print(f\"Container '{container_name}' already exists or cannot be created: {e}\")"
   ]
  },
  {
   "cell_type": "code",
   "execution_count": 36,
   "id": "63340a24",
   "metadata": {},
   "outputs": [],
   "source": [
    "# Function to upload a file\n",
    "def upload_file_to_blob(local_file_path, blob_name):\n",
    "    blob_client = container_client.get_blob_client(blob_name)\n",
    "    \n",
    "    with open(local_file_path, \"rb\") as data:\n",
    "        blob_client.upload_blob(data, overwrite=True)\n",
    "    print(f\"Uploaded '{local_file_path}' to blob '{blob_name}'\")\n",
    "\n",
    "# Function to download a file\n",
    "def download_blob_to_file(blob_name, download_file_path):\n",
    "    blob_client = container_client.get_blob_client(blob_name)\n",
    "    \n",
    "    with open(download_file_path, \"wb\") as download_file:\n",
    "        download_file.write(blob_client.download_blob().readall())\n",
    "    print(f\"Downloaded blob '{blob_name}' to '{download_file_path}'\")"
   ]
  },
  {
   "cell_type": "code",
   "execution_count": 11,
   "id": "aa37e4f7",
   "metadata": {},
   "outputs": [],
   "source": [
    "# Example usage\n",
    "local_upload_file = r\"c:\\Users\\dipes\\Desktop\\stock_market\\cron_job\\my_database.db\"\n",
    "blob_name = \"my_database.db\"\n",
    "download_file_path = r\"c:\\Users\\dipes\\Desktop\\stock_market\\cron_job\\azure.db\""
   ]
  },
  {
   "cell_type": "code",
   "execution_count": 15,
   "id": "e5370d22",
   "metadata": {},
   "outputs": [
    {
     "name": "stdout",
     "output_type": "stream",
     "text": [
      "Uploaded 'c:\\Users\\dipes\\Desktop\\stock_market\\cron_job\\my_database.db' to blob 'my_database.db'\n"
     ]
    }
   ],
   "source": [
    "upload_file_to_blob(local_upload_file, blob_name)"
   ]
  },
  {
   "cell_type": "code",
   "execution_count": 12,
   "id": "2d958ab5",
   "metadata": {},
   "outputs": [
    {
     "name": "stdout",
     "output_type": "stream",
     "text": [
      "Downloaded blob 'my_database.db' to 'c:\\Users\\dipes\\Desktop\\stock_market\\cron_job\\azure.db'\n"
     ]
    }
   ],
   "source": [
    "download_blob_to_file(blob_name, download_file_path)"
   ]
  },
  {
   "cell_type": "code",
   "execution_count": 5,
   "id": "27fb213e",
   "metadata": {},
   "outputs": [],
   "source": [
    "import pandas as pd\n",
    "\n",
    "data = {\n",
    "  \"calories\": [420, 380, 390],\n",
    "  \"duration\": [50, 40, 45]\n",
    "}\n",
    "\n",
    "#load data into a DataFrame object:\n",
    "df = pd.DataFrame(data)"
   ]
  },
  {
   "cell_type": "code",
   "execution_count": 1,
   "id": "c8923a3f",
   "metadata": {},
   "outputs": [],
   "source": [
    "from datetime import datetime, date"
   ]
  },
  {
   "cell_type": "code",
   "execution_count": 2,
   "id": "8d20bdb5",
   "metadata": {},
   "outputs": [],
   "source": [
    "def get_current_date_time():\n",
    "    now = datetime.now()\n",
    "    current_date = now.strftime(\"%Y-%m-%d\")\n",
    "    current_time = now.strftime(\"%H:%M:%S\")\n",
    "    return current_date, current_time"
   ]
  },
  {
   "cell_type": "code",
   "execution_count": 11,
   "id": "9d52f016",
   "metadata": {},
   "outputs": [],
   "source": [
    "from azure.storage.blob import BlobServiceClient, BlobClient, ContainerClient\n",
    "import os, shutil\n",
    "\n",
    "def account_details():\n",
    "    account_url = \"https://tradetatics.blob.core.windows.net\"\n",
    "    account_key = \"ZkAJWrsEc1GVv7n2QzZvGsEx5B2hcBcy4Nk+QjNvvAtb+ntX/mCB1zzDdxlDLc1Bhy8vySPNqcjd+AStgvf4OQ==\"\n",
    "    container_name = \"daily-tech-analysis\"\n",
    "    return account_url, account_key, container_name\n",
    "\n",
    "# Function to upload a file\n",
    "def upload_file_to_blob(local_file_path, blob_name):\n",
    "    account_url, account_key, container_name = account_details()\n",
    "    blob_service_client = BlobServiceClient(account_url=account_url, credential=account_key)\n",
    "    container_client = blob_service_client.get_container_client(container_name)\n",
    "\n",
    "    blob_client = container_client.get_blob_client(blob_name)\n",
    "    \n",
    "    with open(local_file_path, \"rb\") as data:\n",
    "        blob_client.upload_blob(data, overwrite=True)\n",
    "    print(f\"Uploaded '{local_file_path}' to blob '{blob_name}'\")\n",
    "\n",
    "def save_data_blob(stk_df, tmp_loc='tmp'):\n",
    "    current_date, current_time = get_current_date_time()\n",
    "    file_name = f\"Trend_Report_{current_date.replace('-','_')}.csv\"\n",
    "    if not os.path.exists(tmp_loc):\n",
    "        os.mkdir(tmp_loc)\n",
    "    tmp_file_path = os.path.join(tmp_loc, file_name)\n",
    "    stk_df.to_csv(tmp_file_path, index=False)\n",
    "    upload_file_to_blob(tmp_file_path, file_name)\n",
    "    shutil.rmtree(tmp_loc)"
   ]
  },
  {
   "cell_type": "code",
   "execution_count": 12,
   "id": "d78d8a40",
   "metadata": {},
   "outputs": [
    {
     "name": "stdout",
     "output_type": "stream",
     "text": [
      "Uploaded 'tmp\\Trend_Report_2024_11_05.csv' to blob 'Trend_Report_2024_11_05.csv'\n"
     ]
    }
   ],
   "source": [
    "save_data_blob(df)"
   ]
  },
  {
   "cell_type": "code",
   "execution_count": 16,
   "id": "5579c556",
   "metadata": {},
   "outputs": [
    {
     "data": {
      "text/html": [
       "<div>\n",
       "<style scoped>\n",
       "    .dataframe tbody tr th:only-of-type {\n",
       "        vertical-align: middle;\n",
       "    }\n",
       "\n",
       "    .dataframe tbody tr th {\n",
       "        vertical-align: top;\n",
       "    }\n",
       "\n",
       "    .dataframe thead th {\n",
       "        text-align: right;\n",
       "    }\n",
       "</style>\n",
       "<table border=\"1\" class=\"dataframe\">\n",
       "  <thead>\n",
       "    <tr style=\"text-align: right;\">\n",
       "      <th></th>\n",
       "      <th>calories</th>\n",
       "      <th>duration</th>\n",
       "    </tr>\n",
       "  </thead>\n",
       "  <tbody>\n",
       "    <tr>\n",
       "      <th>0</th>\n",
       "      <td>420</td>\n",
       "      <td>50</td>\n",
       "    </tr>\n",
       "    <tr>\n",
       "      <th>1</th>\n",
       "      <td>380</td>\n",
       "      <td>40</td>\n",
       "    </tr>\n",
       "    <tr>\n",
       "      <th>2</th>\n",
       "      <td>390</td>\n",
       "      <td>45</td>\n",
       "    </tr>\n",
       "  </tbody>\n",
       "</table>\n",
       "</div>"
      ],
      "text/plain": [
       "   calories  duration\n",
       "0       420        50\n",
       "1       380        40\n",
       "2       390        45"
      ]
     },
     "execution_count": 16,
     "metadata": {},
     "output_type": "execute_result"
    }
   ],
   "source": [
    "df"
   ]
  },
  {
   "cell_type": "code",
   "execution_count": 18,
   "id": "23753a70",
   "metadata": {},
   "outputs": [],
   "source": [
    "df.to_csv(os.path.join('tmp', file_name), index=False)"
   ]
  },
  {
   "cell_type": "code",
   "execution_count": 22,
   "id": "d414f1c0",
   "metadata": {},
   "outputs": [
    {
     "ename": "FileExistsError",
     "evalue": "[WinError 183] Cannot create a file when that file already exists: 'tmp'",
     "output_type": "error",
     "traceback": [
      "\u001b[1;31m---------------------------------------------------------------------------\u001b[0m",
      "\u001b[1;31mFileExistsError\u001b[0m                           Traceback (most recent call last)",
      "Cell \u001b[1;32mIn[22], line 1\u001b[0m\n\u001b[1;32m----> 1\u001b[0m \u001b[43mos\u001b[49m\u001b[38;5;241;43m.\u001b[39;49m\u001b[43mmkdir\u001b[49m\u001b[43m(\u001b[49m\u001b[38;5;124;43m'\u001b[39;49m\u001b[38;5;124;43mtmp\u001b[39;49m\u001b[38;5;124;43m'\u001b[39;49m\u001b[43m)\u001b[49m\n",
      "\u001b[1;31mFileExistsError\u001b[0m: [WinError 183] Cannot create a file when that file already exists: 'tmp'"
     ]
    }
   ],
   "source": [
    "os.mkdir('tmp')"
   ]
  },
  {
   "cell_type": "code",
   "execution_count": 23,
   "id": "b8ef7249",
   "metadata": {},
   "outputs": [
    {
     "data": {
      "text/plain": [
       "'C:\\\\Users\\\\dipes\\\\Desktop\\\\stock_market\\\\streamlit'"
      ]
     },
     "execution_count": 23,
     "metadata": {},
     "output_type": "execute_result"
    }
   ],
   "source": [
    "os.getcwd()"
   ]
  },
  {
   "cell_type": "code",
   "execution_count": null,
   "id": "18400b88",
   "metadata": {},
   "outputs": [],
   "source": []
  }
 ],
 "metadata": {
  "kernelspec": {
   "display_name": "streamlit",
   "language": "python",
   "name": "streamlit"
  },
  "language_info": {
   "codemirror_mode": {
    "name": "ipython",
    "version": 3
   },
   "file_extension": ".py",
   "mimetype": "text/x-python",
   "name": "python",
   "nbconvert_exporter": "python",
   "pygments_lexer": "ipython3",
   "version": "3.9.20"
  }
 },
 "nbformat": 4,
 "nbformat_minor": 5
}
